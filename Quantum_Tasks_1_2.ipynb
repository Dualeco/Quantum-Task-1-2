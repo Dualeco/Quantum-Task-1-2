{
  "cells": [
    {
      "cell_type": "markdown",
      "id": "21e5ac11",
      "metadata": {
        "id": "21e5ac11"
      },
      "source": [
        "# What is FOR loop"
      ]
    },
    {
      "cell_type": "code",
      "execution_count": 1,
      "id": "5f0e0126",
      "metadata": {
        "colab": {
          "base_uri": "https://localhost:8080/"
        },
        "id": "5f0e0126",
        "outputId": "48e63ca6-8c94-4a6f-c47d-4cac9a1d3624"
      },
      "outputs": [
        {
          "output_type": "stream",
          "name": "stdout",
          "text": [
            "1000\n",
            "500500\n",
            "Time:  0.00013185100000612238  seconds\n"
          ]
        }
      ],
      "source": [
        "import time\n",
        "\n",
        "N = int(input())\n",
        "\n",
        "t1 = time.perf_counter()\n",
        "\n",
        "s = sum(range(1, N + 1))\n",
        "\n",
        "t2 = time.perf_counter()\n",
        "\n",
        "print(s)\n",
        "print('Time: ', t2 - t1, ' seconds')"
      ]
    },
    {
      "cell_type": "markdown",
      "id": "d9f3f280",
      "metadata": {
        "id": "d9f3f280"
      },
      "source": [
        "# Counting Islands"
      ]
    },
    {
      "cell_type": "code",
      "execution_count": 9,
      "id": "98befebd",
      "metadata": {
        "colab": {
          "base_uri": "https://localhost:8080/"
        },
        "id": "98befebd",
        "outputId": "572d8e08-79e5-476f-abc5-6c6b0d094c1a"
      },
      "outputs": [
        {
          "output_type": "stream",
          "name": "stdout",
          "text": [
            "Number of islands:  4\n",
            "[[0 1 0 2 2]\n",
            " [0 1 0 0 2]\n",
            " [0 0 1 0 2]\n",
            " [3 0 0 0 0]\n",
            " [0 3 0 4 4]]\n"
          ]
        }
      ],
      "source": [
        "import numpy as np\n",
        "\n",
        "M = 5\n",
        "N = 5\n",
        "\n",
        "matrix = [\n",
        "    [0, 1, 0, 1, 1],\n",
        "    [0, 1, 0, 0, 1],\n",
        "    [0, 0, 1, 0, 1],\n",
        "    [1, 0, 0, 0, 0],\n",
        "    [0, 1, 0, 1, 1]\n",
        "]\n",
        "\n",
        "visited = np.full((M, N), 0)\n",
        "\n",
        "global island_num\n",
        "island_num = 0\n",
        "\n",
        "def in_range(i, j):\n",
        "    return i >= 0 and i < M and j >= 0 and j < N \n",
        "\n",
        "def should_traverse(i, j):\n",
        "    return matrix[i][j] == 1 and visited[i][j] == 0\n",
        "\n",
        "def visit(i, j):\n",
        "    visited[i][j] = island_num\n",
        "\n",
        "def traverse(i, j):\n",
        "    queue = [(i - 1, j - 1), (i, j - 1), (i + 1, j - 1),\n",
        "            (i - 1, j), (i + 1, j),\n",
        "            (i - 1, j + 1), (i, j + 1), (i + 1, j + 1)]\n",
        "    \n",
        "    for elem in queue:\n",
        "        i_e, j_e = elem\n",
        "        \n",
        "        if in_range(i_e, j_e) and should_traverse(i_e, j_e):  \n",
        "            visit(i_e, j_e)\n",
        "            traverse(i_e, j_e)\n",
        "        \n",
        "\n",
        "for i in range(M):\n",
        "    for j in range(N):\n",
        "        if should_traverse(i, j):\n",
        "            island_num = island_num + 1\n",
        "            \n",
        "            visit(i, j)\n",
        "            traverse(i, j)\n",
        "            \n",
        "\n",
        "print('Number of islands: ', island_num)\n",
        "print(visited)"
      ]
    },
    {
      "cell_type": "code",
      "execution_count": null,
      "id": "b2de259f",
      "metadata": {
        "id": "b2de259f"
      },
      "outputs": [],
      "source": []
    }
  ],
  "metadata": {
    "kernelspec": {
      "display_name": "Python 3 (ipykernel)",
      "language": "python",
      "name": "python3"
    },
    "language_info": {
      "codemirror_mode": {
        "name": "ipython",
        "version": 3
      },
      "file_extension": ".py",
      "mimetype": "text/x-python",
      "name": "python",
      "nbconvert_exporter": "python",
      "pygments_lexer": "ipython3",
      "version": "3.8.10"
    },
    "varInspector": {
      "cols": {
        "lenName": 16,
        "lenType": 16,
        "lenVar": 40
      },
      "kernels_config": {
        "python": {
          "delete_cmd_postfix": "",
          "delete_cmd_prefix": "del ",
          "library": "var_list.py",
          "varRefreshCmd": "print(var_dic_list())"
        },
        "r": {
          "delete_cmd_postfix": ") ",
          "delete_cmd_prefix": "rm(",
          "library": "var_list.r",
          "varRefreshCmd": "cat(var_dic_list()) "
        }
      },
      "types_to_exclude": [
        "module",
        "function",
        "builtin_function_or_method",
        "instance",
        "_Feature"
      ],
      "window_display": false
    },
    "colab": {
      "provenance": []
    }
  },
  "nbformat": 4,
  "nbformat_minor": 5
}